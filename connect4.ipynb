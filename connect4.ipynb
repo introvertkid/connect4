{
 "cells": [
  {
   "cell_type": "code",
   "execution_count": null,
   "metadata": {},
   "outputs": [],
   "source": [
    "# Super global constant variables\n",
    "BOARD_ROW = 6\n",
    "BOARD_COL = 7"
   ]
  },
  {
   "cell_type": "code",
   "execution_count": null,
   "metadata": {
    "_cell_guid": "b1076dfc-b9ad-4769-8c92-a6c4dae69d19",
    "_uuid": "8f2839f25d086af736a60e9eeb907d3b93b6e0e5",
    "execution": {
     "iopub.execute_input": "2025-03-26T12:30:37.350387Z",
     "iopub.status.busy": "2025-03-26T12:30:37.350105Z",
     "iopub.status.idle": "2025-03-26T12:30:37.360305Z",
     "shell.execute_reply": "2025-03-26T12:30:37.359322Z",
     "shell.execute_reply.started": "2025-03-26T12:30:37.350365Z"
    },
    "trusted": true
   },
   "outputs": [],
   "source": [
    "import numpy as np\n",
    "import random\n",
    "\n",
    "class Connect4Env:\n",
    "    def __init__(self):\n",
    "        self.rows = BOARD_ROW\n",
    "        self.cols = BOARD_COL\n",
    "        self.board = np.zeros((self.rows, self.cols), dtype = np.int8)\n",
    "        self.current_player = 1  # Player 1 = 1, Player 2 = 2\n",
    "        self.reward = {'win': 10, 'draw': 0, 'lose': -10}\n",
    "\n",
    "    def reset(self):\n",
    "        self.__init__()\n",
    "        return self.board.flatten()\n",
    "\n",
    "    def play(self, action):\n",
    "        \"\"\"Thực hiện một hành động\"\"\"\n",
    "        if action not in self.valid_moves():\n",
    "            return self.board.flatten(), -10, True, {}  # Kết thúc nếu chọn sai\n",
    "\n",
    "        for row in reversed(range(self.rows)):  # Tìm hàng trống thấp nhất\n",
    "            if self.board[row, action] == 0:\n",
    "                self.board[row, action] = self.current_player\n",
    "                reward, done = self.isWinningMove()\n",
    "                self.current_player = 3 - self.current_player  # Đổi lượt\n",
    "                return self.board.flatten(), reward, done, {}\n",
    "\n",
    "        return self.board.flatten(), -10, True, {}  # Kết thúc nếu cột đầy\n",
    "    \n",
    "    \"\"\" Check if current state is ended after making a move\"\"\"\n",
    "    def isWinningMove(self):\n",
    "        def check_direction(r, c, dr, dc, player):\n",
    "            count = 0\n",
    "            for _ in range(4):\n",
    "                if 0 <= r < self.rows and 0 <= c < self.cols and self.board[r, c] == player:\n",
    "                    count += 1\n",
    "                    r += dr\n",
    "                    c += dc\n",
    "                else:\n",
    "                    break\n",
    "            return count == 4\n",
    "\n",
    "        for r in reversed(range(self.rows)):\n",
    "            for c in range(self.cols):\n",
    "                if self.board[r, c] != 0:\n",
    "                    player = self.board[r, c]\n",
    "                    if (check_direction(r, c, 1, 0, player) or  # Vertical\n",
    "                            check_direction(r, c, 0, 1, player) or  # Horizontal\n",
    "                            check_direction(r, c, 1, 1, player) or  # Diagonal /\n",
    "                            check_direction(r, c, 1, -1, player)):  # Diagonal \\\n",
    "                        return (self.reward['win'], True)\n",
    "                    \n",
    "        # Check draw game\n",
    "        if np.all(self.board != 0):\n",
    "            return (self.reward['draw'], True)\n",
    "        \n",
    "        return (0, False) # have not done yet\n",
    "\n",
    "    def valid_moves(self):\n",
    "        \"\"\"Trả về danh sách cột có thể đi\"\"\"\n",
    "        return [c for c in range(self.cols) if self.board[0, c] == 0]\n",
    "    \n",
    "    def printBoard(self):\n",
    "        for row in self.board:\n",
    "            print(\" \".join([\"⚫\" if x == 0 else \"🚗\" if x == 1 else \"🚕\" for x in row]))\n",
    "        print(\" 0  1   2  3   4  5   6\")\n",
    "\n",
    "board = Connect4Env()\n",
    "state = board.reset()\n",
    "print(state)\n",
    "print(board.board)\n"
   ]
  },
  {
   "cell_type": "code",
   "execution_count": null,
   "metadata": {
    "execution": {
     "iopub.execute_input": "2025-03-26T12:30:39.835719Z",
     "iopub.status.busy": "2025-03-26T12:30:39.835427Z",
     "iopub.status.idle": "2025-03-26T12:30:39.840841Z",
     "shell.execute_reply": "2025-03-26T12:30:39.840075Z",
     "shell.execute_reply.started": "2025-03-26T12:30:39.835698Z"
    },
    "trusted": true
   },
   "outputs": [],
   "source": [
    "import torch\n",
    "import torch.nn as nn\n",
    "import torch.optim as optim\n",
    "\n",
    "class DQN(nn.Module):\n",
    "    def __init__(self, input_dim, output_dim):\n",
    "        super(DQN, self).__init__()\n",
    "        self.layer1 = nn.Linear(input_dim, 128)\n",
    "        self.layer2 = nn.Linear(128, 128)\n",
    "        self.layer3 = nn.Linear(128, output_dim)\n",
    "\n",
    "    def forward(self, x):\n",
    "        x = torch.relu(self.layer1(x))\n",
    "        x = torch.relu(self.layer2(x))\n",
    "        return self.layer3(x)  # Không dùng softmax vì DQN tối ưu giá trị Q\n"
   ]
  },
  {
   "cell_type": "code",
   "execution_count": null,
   "metadata": {},
   "outputs": [],
   "source": [
    "import matplotlib.pyplot as plt\n",
    "# epilson decay graph\n",
    "epsilon_start = 1.0\n",
    "epsilon_end = 0.1\n",
    "\n",
    "max_episode = 50\n",
    "episode = np.arange(max_episode)\n",
    "epsilon_decay = np.log(epsilon_start/epsilon_end*100) / max_episode\n",
    "\n",
    "eps = epsilon_end + (epsilon_start - epsilon_end) * np.exp(-episode * epsilon_decay)\n",
    "plt.plot(episode, eps)\n",
    "print(epsilon_decay)\n",
    "print(eps)\n",
    "plt.title('Epsilon decay graph')\n",
    "plt.xlabel('Episode no.')\n",
    "plt.ylabel('Epsilon')\n",
    "plt.show()"
   ]
  },
  {
   "cell_type": "code",
   "execution_count": null,
   "metadata": {
    "execution": {
     "iopub.execute_input": "2025-03-26T12:37:35.326498Z",
     "iopub.status.busy": "2025-03-26T12:37:35.326186Z",
     "iopub.status.idle": "2025-03-26T12:37:35.331283Z",
     "shell.execute_reply": "2025-03-26T12:37:35.330424Z",
     "shell.execute_reply.started": "2025-03-26T12:37:35.326471Z"
    },
    "trusted": true
   },
   "outputs": [],
   "source": [
    "\"\"\" Use Epsilon-greedy to find out the best way to make a move\n",
    "\n",
    "    @Params:\n",
    "    @Return: best column to play\"\"\"\n",
    "def select_action(model, state, episode=None, training=True):\n",
    "    \"\"\" Select action using epsilon-greedy with decay.\n",
    "        Calculate epsilon based on episode if training, otherwise no exploration\"\"\"\n",
    "    epsilon = epsilon_end + (epsilon_start - epsilon_end) * np.exp(-episode * epsilon_decay) if training else 0.0\n",
    "\n",
    "    valid_moves = env.valid_moves()  # Lấy danh sách các cột hợp lệ\n",
    "\n",
    "    if random.random() < epsilon:\n",
    "        return np.random.choice(valid_moves)  # Chọn ngẫu nhiên trong các cột hợp lệ\n",
    "    else:\n",
    "        with torch.no_grad():\n",
    "            q_values = model(torch.tensor(state, dtype=torch.float32).unsqueeze(0))\n",
    "            return torch.argmax(q_values).item()\n"
   ]
  },
  {
   "cell_type": "code",
   "execution_count": null,
   "metadata": {
    "execution": {
     "iopub.execute_input": "2025-03-26T12:37:37.366285Z",
     "iopub.status.busy": "2025-03-26T12:37:37.365970Z",
     "iopub.status.idle": "2025-03-26T12:37:37.370840Z",
     "shell.execute_reply": "2025-03-26T12:37:37.370188Z",
     "shell.execute_reply.started": "2025-03-26T12:37:37.366259Z"
    },
    "trusted": true
   },
   "outputs": [],
   "source": [
    "\"\"\" Let 2 models play against each other\n",
    "    @Return: reward after play optimally\"\"\"\n",
    "def play_game(dqn_player1, dqn_player2, env, epsilon):\n",
    "    state = env.reset()\n",
    "    done = False\n",
    "    turn = 1  # 1 là Player 1, 2 là Player 2\n",
    "\n",
    "    while not done:\n",
    "        model = dqn_player1 if turn == 1 else dqn_player2\n",
    "        action = select_action(model, state, epsilon)\n",
    "        \n",
    "        next_state, reward, done, _ = env.step(action)\n",
    "\n",
    "        if done:\n",
    "            return reward  # Trả về kết quả trận đấu\n",
    "\n",
    "        state = next_state\n",
    "        turn = 3 - turn  # Đổi lượt chơi\n"
   ]
  },
  {
   "cell_type": "code",
   "execution_count": null,
   "metadata": {
    "execution": {
     "iopub.execute_input": "2025-03-26T12:37:39.454302Z",
     "iopub.status.busy": "2025-03-26T12:37:39.454026Z",
     "iopub.status.idle": "2025-03-26T12:37:39.459829Z",
     "shell.execute_reply": "2025-03-26T12:37:39.459003Z",
     "shell.execute_reply.started": "2025-03-26T12:37:39.454281Z"
    },
    "trusted": true
   },
   "outputs": [],
   "source": [
    "from collections import deque\n",
    "\n",
    "\"\"\"@Params: \"\"\"\n",
    "def train_model(model, optimizer, memory, batch_size):\n",
    "    if len(memory) < batch_size:\n",
    "        return\n",
    "\n",
    "    batch = random.sample(memory, batch_size)\n",
    "    \n",
    "    for state, action, reward, next_state, done in batch:\n",
    "        q_values = model(torch.tensor(state, dtype=torch.float32))\n",
    "        q_value = q_values[action]\n",
    "\n",
    "        with torch.no_grad():\n",
    "            next_q_values = model(torch.tensor(next_state, dtype=torch.float32))\n",
    "            target_q_value = reward if done else reward + 0.99 * torch.max(next_q_values)\n",
    "\n",
    "        loss = (q_value - target_q_value) ** 2\n",
    "\n",
    "        optimizer.zero_grad()\n",
    "        loss.backward()\n",
    "        optimizer.step()\n"
   ]
  },
  {
   "cell_type": "code",
   "execution_count": null,
   "metadata": {
    "execution": {
     "iopub.execute_input": "2025-03-26T12:37:43.459024Z",
     "iopub.status.busy": "2025-03-26T12:37:43.458714Z",
     "iopub.status.idle": "2025-03-26T12:39:18.453038Z",
     "shell.execute_reply": "2025-03-26T12:39:18.452234Z",
     "shell.execute_reply.started": "2025-03-26T12:37:43.459001Z"
    },
    "trusted": true
   },
   "outputs": [],
   "source": [
    "import time\n",
    "\n",
    "env = Connect4Env()\n",
    "\n",
    "input_dim = BOARD_ROW * BOARD_COL  # Size of board\n",
    "output_dim = BOARD_COL  # Ouput action (column 0 -> n)\n",
    "\n",
    "dqn_player1 = DQN(input_dim, output_dim)\n",
    "dqn_player2 = DQN(input_dim, output_dim)\n",
    "\n",
    "optimizer1 = optim.Adam(dqn_player1.parameters(), lr=0.001)\n",
    "optimizer2 = optim.Adam(dqn_player2.parameters(), lr=0.001)\n",
    "\n",
    "memory = deque(maxlen=10000)\n",
    "batch_size = 64\n",
    "num_episodes = 10\n",
    "epsilon = 0.1\n",
    "startTime = time.time()\n",
    "\n",
    "for episode in range(num_episodes):\n",
    "    state = env.reset()\n",
    "    done = False\n",
    "    turn = 1  # 1 là Player 1, 2 là Player 2\n",
    "\n",
    "    while not done:\n",
    "        model = dqn_player1 if turn == 1 else dqn_player2\n",
    "        optimizer = optimizer1 if turn == 1 else optimizer2\n",
    "\n",
    "        action = select_action(model, state, epsilon)\n",
    "        next_state, reward, done, _ = env.play(action)\n",
    "\n",
    "        memory.append((state, action, reward, next_state, done))\n",
    "\n",
    "        # Huấn luyện mô hình\n",
    "        train_model(model, optimizer, memory, batch_size)\n",
    "\n",
    "        state = next_state\n",
    "        turn = 3 - turn  # Đổi lượt chơi\n",
    "\n",
    "    epsilon = epsilon_end + (epsilon_start - epsilon_end) * np.exp(-episode * epsilon_decay)\n",
    "\n",
    "    if episode % 10 == 0:\n",
    "        print(f\"Episode {episode}: Reward {reward}, Epsilon {epsilon:.4f}\")\n",
    "\n",
    "endTime = time.time()\n",
    "print(f\"Trained {num_episodes} episodes after {endTime-startTime:.4f} seconds\")\n",
    "print(\"Training complete!\")\n"
   ]
  },
  {
   "cell_type": "code",
   "execution_count": null,
   "metadata": {
    "execution": {
     "iopub.execute_input": "2025-03-26T12:41:07.912414Z",
     "iopub.status.busy": "2025-03-26T12:41:07.912096Z",
     "iopub.status.idle": "2025-03-26T12:41:08.041336Z",
     "shell.execute_reply": "2025-03-26T12:41:08.040520Z",
     "shell.execute_reply.started": "2025-03-26T12:41:07.912388Z"
    },
    "trusted": true
   },
   "outputs": [],
   "source": [
    "def evaluate_model(model, env, num_games):\n",
    "    total_rewards = 0\n",
    "\n",
    "    for _ in range(num_games):\n",
    "        state = env.reset()\n",
    "        done = False\n",
    "        turn = 1\n",
    "\n",
    "        while not done:\n",
    "            action = select_action(model, state, epsilon) if turn == 1 else np.random.choice(env.valid_moves())\n",
    "            state, reward, done, _ = env.play(action)\n",
    "            env.printBoard()\n",
    "            if turn == 2:\n",
    "                print(env.valid_moves())\n",
    "            print(f\"🧐 Chọn cột: {action}\")\n",
    "            turn = 3 - turn\n",
    "        \n",
    "        total_rewards += reward  # Cộng tổng điểm thưởng\n",
    "        \n",
    "    avg_reward = total_rewards / num_games\n",
    "    print(f\"📊 Model's Average Reward over {num_games} games: {avg_reward}\")\n",
    "    \n",
    "    return avg_reward"
   ]
  },
  {
   "cell_type": "code",
   "execution_count": null,
   "metadata": {
    "execution": {
     "iopub.execute_input": "2025-03-26T12:42:51.359909Z",
     "iopub.status.busy": "2025-03-26T12:42:51.359616Z",
     "iopub.status.idle": "2025-03-26T12:42:51.366453Z",
     "shell.execute_reply": "2025-03-26T12:42:51.365791Z",
     "shell.execute_reply.started": "2025-03-26T12:42:51.359887Z"
    },
    "trusted": true
   },
   "outputs": [],
   "source": [
    "torch.save(dqn_player1.state_dict(), \"dqn_player1.pth\")\n",
    "torch.save(dqn_player2.state_dict(), \"dqn_player2.pth\")\n",
    "print(\"✅ Model saved successfully!\")\n"
   ]
  },
  {
   "cell_type": "code",
   "execution_count": null,
   "metadata": {
    "execution": {
     "iopub.status.busy": "2025-03-26T12:24:43.197873Z",
     "iopub.status.idle": "2025-03-26T12:24:43.198119Z",
     "shell.execute_reply": "2025-03-26T12:24:43.198022Z"
    },
    "trusted": true
   },
   "outputs": [],
   "source": [
    "# import time\n",
    "\n",
    "# env = Connect4Env()\n",
    "\n",
    "# input_dim = BOARD_ROW * BOARD_COL  # Size of board\n",
    "# output_dim = BOARD_COL  # Ouput action (column 0 -> n)\n",
    "\n",
    "# dqn_player1 = DQN(input_dim, output_dim)\n",
    "# dqn_player2 = DQN(input_dim, output_dim)\n",
    "\n",
    "dqn_player1.load_state_dict(torch.load(\"dqn_player1.pth\"))\n",
    "dqn_player2.load_state_dict(torch.load(\"dqn_player2.pth\"))\n",
    "print(\"✅ Model loaded successfully!\")"
   ]
  },
  {
   "cell_type": "code",
   "execution_count": null,
   "metadata": {
    "execution": {
     "iopub.execute_input": "2025-03-26T12:32:18.422647Z",
     "iopub.status.busy": "2025-03-26T12:32:18.422332Z",
     "iopub.status.idle": "2025-03-26T12:32:18.762955Z",
     "shell.execute_reply": "2025-03-26T12:32:18.762200Z",
     "shell.execute_reply.started": "2025-03-26T12:32:18.422618Z"
    },
    "trusted": true
   },
   "outputs": [],
   "source": [
    "start_time = time.time()\n",
    "evaluate_model(dqn_player1, env, num_games=100)\n",
    "end_time = time.time()\n",
    "\n",
    "print(f\"⏳ Time taken: {end_time - start_time:.2f} seconds\")\n"
   ]
  }
 ],
 "metadata": {
  "kaggle": {
   "accelerator": "nvidiaTeslaT4",
   "dataSources": [],
   "dockerImageVersionId": 30919,
   "isGpuEnabled": true,
   "isInternetEnabled": true,
   "language": "python",
   "sourceType": "notebook"
  },
  "kernelspec": {
   "display_name": "base",
   "language": "python",
   "name": "python3"
  },
  "language_info": {
   "codemirror_mode": {
    "name": "ipython",
    "version": 3
   },
   "file_extension": ".py",
   "mimetype": "text/x-python",
   "name": "python",
   "nbconvert_exporter": "python",
   "pygments_lexer": "ipython3",
   "version": "3.12.9"
  }
 },
 "nbformat": 4,
 "nbformat_minor": 4
}
